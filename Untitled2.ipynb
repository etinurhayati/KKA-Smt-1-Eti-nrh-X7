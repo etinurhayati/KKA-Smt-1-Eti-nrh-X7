{
  "nbformat": 4,
  "nbformat_minor": 0,
  "metadata": {
    "colab": {
      "provenance": [],
      "authorship_tag": "ABX9TyNJkHkFK7JwRUsAU93NITWT",
      "include_colab_link": true
    },
    "kernelspec": {
      "name": "python3",
      "display_name": "Python 3"
    },
    "language_info": {
      "name": "python"
    }
  },
  "cells": [
    {
      "cell_type": "markdown",
      "metadata": {
        "id": "view-in-github",
        "colab_type": "text"
      },
      "source": [
        "<a href=\"https://colab.research.google.com/github/etinurhayati/KKA-Smt-1-Eti-nrh-X7/blob/main/Untitled2.ipynb\" target=\"_parent\"><img src=\"https://colab.research.google.com/assets/colab-badge.svg\" alt=\"Open In Colab\"/></a>"
      ]
    },
    {
      "cell_type": "markdown",
      "source": [
        "Nama =eti nurhayati kelas=X7 absen=13"
      ],
      "metadata": {
        "id": "1Z-YdUkLX0fj"
      }
    },
    {
      "cell_type": "markdown",
      "source": [
        "Menampilkan teks bebas dengan tanda kutip"
      ],
      "metadata": {
        "id": "jqta80fGWUst"
      }
    },
    {
      "cell_type": "code",
      "source": [
        "print(\"I love you\")"
      ],
      "metadata": {
        "colab": {
          "base_uri": "https://localhost:8080/"
        },
        "id": "E8WU2pnVR8C2",
        "outputId": "63cef657-d551-46bd-e47b-3c7df8bbb03c"
      },
      "execution_count": null,
      "outputs": [
        {
          "output_type": "stream",
          "name": "stdout",
          "text": [
            "I love you\n"
          ]
        }
      ]
    },
    {
      "cell_type": "markdown",
      "source": [],
      "metadata": {
        "id": "F8AD1AUlTSom"
      }
    },
    {
      "cell_type": "code",
      "source": [
        "print (\"Eti Nurhayati\")"
      ],
      "metadata": {
        "colab": {
          "base_uri": "https://localhost:8080/"
        },
        "id": "itih7WloSV8W",
        "outputId": "6864d22c-14c2-4c98-b37c-f07da56785d1"
      },
      "execution_count": null,
      "outputs": [
        {
          "output_type": "stream",
          "name": "stdout",
          "text": [
            "Eti Nurhayati\n"
          ]
        }
      ]
    },
    {
      "cell_type": "code",
      "source": [
        "usia = 15\n",
        "print(usia)"
      ],
      "metadata": {
        "colab": {
          "base_uri": "https://localhost:8080/"
        },
        "id": "OCtEu03HSebb",
        "outputId": "17233712-3e59-4390-b103-492962bcd9b5"
      },
      "execution_count": null,
      "outputs": [
        {
          "output_type": "stream",
          "name": "stdout",
          "text": [
            "15\n"
          ]
        }
      ]
    },
    {
      "cell_type": "code",
      "source": [
        "beratbadan = 46\n",
        "print(beratbadan)"
      ],
      "metadata": {
        "colab": {
          "base_uri": "https://localhost:8080/"
        },
        "id": "wKslHD3pSrvy",
        "outputId": "9b74e88c-6381-4f32-e43c-d2ef57aac2eb"
      },
      "execution_count": null,
      "outputs": [
        {
          "output_type": "stream",
          "name": "stdout",
          "text": [
            "46\n"
          ]
        }
      ]
    },
    {
      "cell_type": "code",
      "source": [
        "tinggibadan=151\n",
        "print(tinggibadan)"
      ],
      "metadata": {
        "colab": {
          "base_uri": "https://localhost:8080/"
        },
        "id": "vmGksXUmS_QC",
        "outputId": "298628fb-a6bb-44c8-d44a-b5a8ac7a79ac"
      },
      "execution_count": null,
      "outputs": [
        {
          "output_type": "stream",
          "name": "stdout",
          "text": [
            "151\n"
          ]
        }
      ]
    },
    {
      "cell_type": "code",
      "source": [
        "print(\"Tinggi badan: \",tinggibadan)"
      ],
      "metadata": {
        "id": "iVLJR129TMCq",
        "colab": {
          "base_uri": "https://localhost:8080/"
        },
        "outputId": "c0e16c35-4684-4be8-c7d8-8ecb93efb0d6"
      },
      "execution_count": null,
      "outputs": [
        {
          "output_type": "stream",
          "name": "stdout",
          "text": [
            "Tinggi badan:  151\n"
          ]
        }
      ]
    },
    {
      "cell_type": "code",
      "source": [
        "print(\"Usia Anda: \",str (usia))"
      ],
      "metadata": {
        "colab": {
          "base_uri": "https://localhost:8080/"
        },
        "id": "FQDzwNS_XN8g",
        "outputId": "08a9448e-ee8a-400a-be63-56b90026db01"
      },
      "execution_count": null,
      "outputs": [
        {
          "output_type": "stream",
          "name": "stdout",
          "text": [
            "Usia Anda:  15\n"
          ]
        }
      ]
    },
    {
      "cell_type": "code",
      "source": [
        "Luasman =1.1\n",
        "print(\"Luas man adalah \"+ str(Luasman) + \" kilometerpersegi\")"
      ],
      "metadata": {
        "colab": {
          "base_uri": "https://localhost:8080/"
        },
        "id": "Bis06mDjXi2f",
        "outputId": "00f4dac7-52ea-4714-f7d8-62d414522bf6"
      },
      "execution_count": null,
      "outputs": [
        {
          "output_type": "stream",
          "name": "stdout",
          "text": [
            "Luas man adalah 1.1 kilometerpersegi\n"
          ]
        }
      ]
    },
    {
      "cell_type": "code",
      "source": [
        "print(\"Luas man adalah (Luasman) kilometer persegi\" )"
      ],
      "metadata": {
        "colab": {
          "base_uri": "https://localhost:8080/"
        },
        "id": "nsezaplqYwFX",
        "outputId": "02790602-1730-462c-8494-fe3e9c0b0bef"
      },
      "execution_count": null,
      "outputs": [
        {
          "output_type": "stream",
          "name": "stdout",
          "text": [
            "Luas man adalah (Luasman) kilometer persegi\n"
          ]
        }
      ]
    },
    {
      "cell_type": "code",
      "execution_count": null,
      "metadata": {
        "colab": {
          "base_uri": "https://localhost:8080/"
        },
        "id": "F__ArgkrMsYZ",
        "outputId": "07fa5518-fead-427a-e9d8-034f9e32b23b"
      },
      "outputs": [
        {
          "output_type": "stream",
          "name": "stdout",
          "text": [
            "harga telur adalah  26000 per kilogram\n",
            "nama pembeli telur adalah eti\n"
          ]
        }
      ],
      "source": [
        "harga_telur = 26000\n",
        "nama_pembeli = \"eti\"\n",
        "\n",
        "print(\"harga telur adalah \" ,harga_telur ,\"per kilogram\")\n",
        "print(\"nama pembeli telur adalah\", nama_pembeli)"
      ]
    },
    {
      "cell_type": "markdown",
      "source": [],
      "metadata": {
        "id": "NxJdTN39Sgaf"
      }
    },
    {
      "cell_type": "code",
      "source": [
        "print(\"harga telur adalah \" + str(harga_telur) +\" per kilogram\")\n",
        "print(\"nama pembeli telur adalah \"+ nama_pembeli )"
      ],
      "metadata": {
        "colab": {
          "base_uri": "https://localhost:8080/"
        },
        "id": "ODgycnNWSmoV",
        "outputId": "a369c1aa-140e-4f91-b7a9-40e8d79729b2"
      },
      "execution_count": null,
      "outputs": [
        {
          "output_type": "stream",
          "name": "stdout",
          "text": [
            "harga telur adalah 26000 per kilogram\n",
            "nama pembeli telur adalah eti\n"
          ]
        }
      ]
    },
    {
      "cell_type": "markdown",
      "source": [
        "Escape Character"
      ],
      "metadata": {
        "id": "ryQIXHVtVglU"
      }
    },
    {
      "cell_type": "code",
      "source": [
        "print(\"Nama: Eti Nurhayati\")\n",
        "print(\"Kelas: X.7\")\n",
        "print(\"Nomor absen: 13\")"
      ],
      "metadata": {
        "colab": {
          "base_uri": "https://localhost:8080/"
        },
        "id": "1aem5OO0VrS5",
        "outputId": "6efda778-5048-451d-86cc-6f58345cdbde"
      },
      "execution_count": null,
      "outputs": [
        {
          "output_type": "stream",
          "name": "stdout",
          "text": [
            "Nama: Eti Nurhayati\n",
            "Kelas: X.7\n",
            "Nomor absen: 13\n"
          ]
        }
      ]
    },
    {
      "cell_type": "code",
      "source": [
        "print(\"Nama\\t\\t: Eti Nurhayati\\nkelas\\t\\t: X.7\\nNomor absen\\t:13\")"
      ],
      "metadata": {
        "colab": {
          "base_uri": "https://localhost:8080/"
        },
        "id": "qJZ90buuWE7_",
        "outputId": "b618acd3-00b5-4497-b9f8-4e9aeabfb9bf"
      },
      "execution_count": null,
      "outputs": [
        {
          "output_type": "stream",
          "name": "stdout",
          "text": [
            "Nama\t\t: Eti Nurhayati\n",
            "kelas\t\t: X.7\n",
            "Nomor absen\t:13\n"
          ]
        }
      ]
    },
    {
      "cell_type": "code",
      "source": [
        "print(\"\"\"Nama:Eti Nurhayati\n",
        "Kelas: X.7\n",
        "Nomor absen: 13\"\"\")"
      ],
      "metadata": {
        "colab": {
          "base_uri": "https://localhost:8080/"
        },
        "id": "HLUPRHLeWikn",
        "outputId": "c68c2e04-822d-445b-cccb-fada1125f068"
      },
      "execution_count": null,
      "outputs": [
        {
          "output_type": "stream",
          "name": "stdout",
          "text": [
            "Nama:Eti Nurhayati\n",
            "Kelas: X.7\n",
            "Nomor absen: 13\n"
          ]
        }
      ]
    },
    {
      "cell_type": "code",
      "source": [
        "print(\"Nama: habib ja'far\")"
      ],
      "metadata": {
        "colab": {
          "base_uri": "https://localhost:8080/"
        },
        "id": "Ls9MVFHTaXCh",
        "outputId": "2e468361-fa4c-4422-bfad-b8ed4204c7a2"
      },
      "execution_count": null,
      "outputs": [
        {
          "output_type": "stream",
          "name": "stdout",
          "text": [
            "Nama: habib ja'far\n"
          ]
        }
      ]
    },
    {
      "cell_type": "code",
      "source": [
        "print(\"Nama: habib ja'far\")"
      ],
      "metadata": {
        "colab": {
          "base_uri": "https://localhost:8080/"
        },
        "id": "r6EN5EM2avxU",
        "outputId": "54a2790e-6e40-4525-c58e-372c30249687"
      },
      "execution_count": null,
      "outputs": [
        {
          "output_type": "stream",
          "name": "stdout",
          "text": [
            "Nama: habib ja'far\n"
          ]
        }
      ]
    },
    {
      "cell_type": "code",
      "source": [
        "print(\"Bu Shinta berkata, \\\"Tenang fokus sejenak!\\\".\")"
      ],
      "metadata": {
        "colab": {
          "base_uri": "https://localhost:8080/"
        },
        "id": "5yFq8l_xbCPy",
        "outputId": "c2fe262a-83ea-4f19-be8e-8ad8b5af4aa5"
      },
      "execution_count": null,
      "outputs": [
        {
          "output_type": "stream",
          "name": "stdout",
          "text": [
            "Bu Shinta berkata, \"Tenang fokus sejenak!\".\n"
          ]
        }
      ]
    },
    {
      "cell_type": "code",
      "source": [
        "print(\"Bu Shinta berkata, \\\"Tenang fokus sejenak!\\\".\")"
      ],
      "metadata": {
        "colab": {
          "base_uri": "https://localhost:8080/"
        },
        "id": "UnBmdwJSb514",
        "outputId": "8725f433-aef8-4d79-ce9c-b7c20fbca41d"
      },
      "execution_count": null,
      "outputs": [
        {
          "output_type": "stream",
          "name": "stdout",
          "text": [
            "Bu Shinta berkata, \"Tenang fokus sejenak!\".\n"
          ]
        }
      ]
    },
    {
      "cell_type": "code",
      "source": [
        "print(\"Lokasi penyimpanan tugas KKA ada di Lokal disk D:\\\\KKA\\\\Tugas\")"
      ],
      "metadata": {
        "colab": {
          "base_uri": "https://localhost:8080/"
        },
        "id": "YcLR9ybqcdDm",
        "outputId": "e4d3891e-30f9-4053-9d86-0fb52a81de30"
      },
      "execution_count": null,
      "outputs": [
        {
          "output_type": "stream",
          "name": "stdout",
          "text": [
            "Lokasi penyimpanan tugas KKA ada di Lokal disk D:\\KKA\\Tugas\n"
          ]
        }
      ]
    },
    {
      "cell_type": "markdown",
      "source": [
        "  Parameter fungsi print"
      ],
      "metadata": {
        "id": "YBUVwZL2dNbG"
      }
    },
    {
      "cell_type": "code",
      "source": [
        "Tanggal = 18\n",
        "Bulan = \"februari\"\n",
        "Tahun =2000\n",
        "#18-Februari-2000\n",
        "print(Tanggal)\n",
        "print(Bulan)\n",
        "print(Tahun)"
      ],
      "metadata": {
        "colab": {
          "base_uri": "https://localhost:8080/"
        },
        "id": "-ydA1p_-dY7p",
        "outputId": "aaba7791-9cf2-4574-8297-3949ee6030c7"
      },
      "execution_count": null,
      "outputs": [
        {
          "output_type": "stream",
          "name": "stdout",
          "text": [
            "18\n",
            "februari\n",
            "2000\n"
          ]
        }
      ]
    },
    {
      "cell_type": "code",
      "source": [
        "#18-februari-2000\n",
        "print(Tanggal, Bulan, Tahun,\".\")"
      ],
      "metadata": {
        "colab": {
          "base_uri": "https://localhost:8080/"
        },
        "id": "JCRk1kwOePQU",
        "outputId": "01b9c422-f6d2-4afe-9327-a3f043674b44"
      },
      "execution_count": null,
      "outputs": [
        {
          "output_type": "stream",
          "name": "stdout",
          "text": [
            "18 februari 2000 .\n"
          ]
        }
      ]
    },
    {
      "cell_type": "code",
      "source": [],
      "metadata": {
        "id": "XyXHC_MdPivi"
      },
      "execution_count": null,
      "outputs": []
    }
  ]
}